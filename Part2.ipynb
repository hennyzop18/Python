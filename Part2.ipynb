{
  "nbformat": 4,
  "nbformat_minor": 0,
  "metadata": {
    "colab": {
      "provenance": [],
      "authorship_tag": "ABX9TyN/g/T3OCjc/PbIJ+qVK8yL",
      "include_colab_link": true
    },
    "kernelspec": {
      "name": "python3",
      "display_name": "Python 3"
    },
    "language_info": {
      "name": "python"
    }
  },
  "cells": [
    {
      "cell_type": "markdown",
      "metadata": {
        "id": "view-in-github",
        "colab_type": "text"
      },
      "source": [
        "<a href=\"https://colab.research.google.com/github/hennyzop18/Python/blob/main/Part2.ipynb\" target=\"_parent\"><img src=\"https://colab.research.google.com/assets/colab-badge.svg\" alt=\"Open In Colab\"/></a>"
      ]
    },
    {
      "cell_type": "code",
      "execution_count": null,
      "metadata": {
        "id": "DH7PxR_uY684",
        "colab": {
          "base_uri": "https://localhost:8080/"
        },
        "outputId": "cd35c142-57c2-40ef-efbd-c7691c1d1a32"
      },
      "outputs": [
        {
          "output_type": "stream",
          "name": "stdout",
          "text": [
            " Enter your positive integer: 89\n",
            " This is an odd number!\n"
          ]
        }
      ],
      "source": [
        "#BÀI1\n",
        "number = input(\" Enter your positive integer: \")\n",
        "if int(number)%2 == 0:\n",
        "  print(\" This is an even number!\")\n",
        "else:\n",
        "  print(\" This is an odd number!\")"
      ]
    },
    {
      "cell_type": "code",
      "source": [
        "#BÀI2\n",
        "st = input(\"Enter your string: \")\n",
        "if st.isupper():\n",
        "  print(\"This is an upper string\")\n",
        "elif st.islower():\n",
        "  print(\"This is an lower string\")\n",
        "else:\n",
        "  print(\" This string contains upper and lower characters \")"
      ],
      "metadata": {
        "colab": {
          "base_uri": "https://localhost:8080/"
        },
        "id": "JoXTua6WZper",
        "outputId": "d5183797-71f8-42a4-d58e-a434f03e8469"
      },
      "execution_count": null,
      "outputs": [
        {
          "output_type": "stream",
          "name": "stdout",
          "text": [
            "Enter your string: KLE\n",
            "This is an upper string\n"
          ]
        }
      ]
    },
    {
      "cell_type": "code",
      "source": [
        "#BÀI3\n",
        "st = input(\"Enter your string: \")\n",
        "st_search = input(\"Enter a searching string :\")\n",
        "if st_search in st:\n",
        "  print(\" A search string was found, at location :\" +\n",
        "str(st.find(st_search)))\n",
        "else:\n",
        "  print(\"Not Found\")"
      ],
      "metadata": {
        "colab": {
          "base_uri": "https://localhost:8080/"
        },
        "id": "qoGh1-VyaIWO",
        "outputId": "851059d7-8968-4e54-d2c8-958d7b04f502"
      },
      "execution_count": null,
      "outputs": [
        {
          "output_type": "stream",
          "name": "stdout",
          "text": [
            "Enter your string: Le Hoang Yen\n",
            "Enter a searching string :Y\n",
            " A search string was found, at location :9\n"
          ]
        }
      ]
    },
    {
      "cell_type": "code",
      "source": [
        "#BÀi4\n",
        "num1 = float(input(\"Enter first number: \"))\n",
        "num2 = float(input(\"Enter second number: \"))\n",
        "num3 = float(input(\"Enter third number: \"))\n",
        "if (num1 >= num2) and (num1 >= num3):\n",
        "  largest = num1\n",
        "elif (num2 >= num1) and (num2 >= num3):\n",
        "  largest = num2\n",
        "else:\n",
        "  largest = num3\n",
        "print(\"The largest number between\", num1, \",\", num2, \"and\", num3,\n",
        "\"is\", largest)"
      ],
      "metadata": {
        "colab": {
          "base_uri": "https://localhost:8080/"
        },
        "id": "AYVfuzqwafmH",
        "outputId": "dcfd70ac-32b4-4485-c328-fc81170bd5ef"
      },
      "execution_count": null,
      "outputs": [
        {
          "output_type": "stream",
          "name": "stdout",
          "text": [
            "Enter first number: 6\n",
            "Enter second number: 9\n",
            "Enter third number: 4\n",
            "The largest number between 6.0 , 9.0 and 4.0 is 9.0\n"
          ]
        }
      ]
    },
    {
      "cell_type": "code",
      "source": [
        "#BÀI5\n",
        "n=int(input(\" Enter an integer greater than 0 : \"))\n",
        "sum=0.0\n",
        "for i in range(1,n+1):\n",
        "  sum += float(float(i)/(i+1))\n",
        "print(sum)"
      ],
      "metadata": {
        "colab": {
          "base_uri": "https://localhost:8080/"
        },
        "id": "f9998yqrbORb",
        "outputId": "dccc2275-3f3f-4eba-f66d-7f0d6ff4d7ed"
      },
      "execution_count": null,
      "outputs": [
        {
          "output_type": "stream",
          "name": "stdout",
          "text": [
            " Enter an integer greater than 0 : 8\n",
            "6.171031746031746\n"
          ]
        }
      ]
    },
    {
      "cell_type": "code",
      "source": [
        "#BÀi6\n",
        "st = input(\"Enter your sentence: \")\n",
        "Sum_upper_Char = 0\n",
        "Sum_lower_Char = 0\n",
        "for c in st:\n",
        "  if c.isupper():\n",
        "    Sum_upper_Char +=1\n",
        "  elif c.islower():\n",
        "    Sum_lower_Char +=1\n",
        "  else:\n",
        "    pass\n",
        "print(\"Sum of Upper Character:\", Sum_upper_Char)\n",
        "print(\"Sum of Lower Character:\", Sum_lower_Char)"
      ],
      "metadata": {
        "colab": {
          "base_uri": "https://localhost:8080/"
        },
        "id": "KdqFhIbdbj_B",
        "outputId": "32bf31cf-b7da-4041-8373-575d07f669b6"
      },
      "execution_count": null,
      "outputs": [
        {
          "output_type": "stream",
          "name": "stdout",
          "text": [
            "Enter your sentence: Lê Hoàng Yến\n",
            "Sum of Upper Character: 3\n",
            "Sum of Lower Character: 7\n"
          ]
        }
      ]
    },
    {
      "cell_type": "code",
      "source": [
        "#Bài7\n",
        "num = int(input(\"Enter a number: \"))\n",
        "level = int(input(\"Bậc: \"))\n",
        "sum = 0\n",
        "temp = num\n",
        "while temp > 0:\n",
        "  digit = temp % 10\n",
        "  sum += digit ** level\n",
        "  temp //= 10\n",
        "if num == sum:\n",
        "  print(num, \"is Amstrong, level : \" + str(level))\n",
        "else:\n",
        "  print(num, \"is not Amstrong\")"
      ],
      "metadata": {
        "colab": {
          "base_uri": "https://localhost:8080/"
        },
        "id": "_TucAHPNdIAD",
        "outputId": "516f26b5-0761-4692-f12e-69173b63a0af"
      },
      "execution_count": null,
      "outputs": [
        {
          "output_type": "stream",
          "name": "stdout",
          "text": [
            "Enter a number: 789\n",
            "Bậc: 5\n",
            "789 is not Amstrong\n"
          ]
        }
      ]
    },
    {
      "cell_type": "code",
      "source": [
        "#Bài8\n",
        "# Định nghĩa chuỗi các ký tự cần loại bỏ\n",
        "\n",
        "st1 = \"\"\"!()-[]{};:\"\"\\,<>./?@#$%^&*_~\"\"\"\n",
        "\n",
        "# Chuỗi cần xử lý\n",
        "\n",
        "my_str = input(\"Enter a string: \")\n",
        "\n",
        "# Loại bỏ ký tự cần loại bỏ\n",
        "\n",
        "st2 = \"\"\n",
        "\n",
        "for char in my_str:\n",
        "\n",
        "  if char not in st1:\n",
        "\n",
        "    st2 = st2 + char\n",
        "\n",
        "# Hiển thị chuỗi sau khi loại bỏ\n",
        "\n",
        "print(st2)"
      ],
      "metadata": {
        "id": "UHyVvQtncfry",
        "colab": {
          "base_uri": "https://localhost:8080/"
        },
        "outputId": "49fcc8e2-5d46-4105-c803-e136f40d09dc"
      },
      "execution_count": null,
      "outputs": [
        {
          "output_type": "stream",
          "name": "stdout",
          "text": [
            "Enter a string: hgtyfjhjyg@#$%#%kmh5u6\n",
            "hgtyfjhjygkmh5u6\n"
          ]
        }
      ]
    },
    {
      "cell_type": "code",
      "source": [
        "#BÀi9\n",
        "my_str = input(\"Enter a string: \")\n",
        "\n",
        "# Tách từ trong chuỗi và lưu vào danh sách ds_tu\n",
        "\n",
        "ds_tu = my_str.split()\n",
        "\n",
        "# Sắp xếp các phần tử (từ) trong danh sách từ ds_tu\n",
        "\n",
        "ds_tu.sort()\n",
        "\n",
        "# Hiển thị từ từ trong danh sách\n",
        "\n",
        "print(\"Các từ đã được tách và sắp xếp theo Alphabe\")\n",
        "\n",
        "for tu in ds_tu:\n",
        "\n",
        "  print(tu)"
      ],
      "metadata": {
        "colab": {
          "base_uri": "https://localhost:8080/"
        },
        "id": "LbLBh9PCMfh-",
        "outputId": "20e9b9e0-ada5-45a9-f2db-e524ecd882a7"
      },
      "execution_count": null,
      "outputs": [
        {
          "output_type": "stream",
          "name": "stdout",
          "text": [
            "Enter a string: le hoang yen nguyen khac duy\n",
            "Các từ đã được tách và sắp xếp theo Alphabe\n",
            "duy\n",
            "hoang\n",
            "khac\n",
            "le\n",
            "nguyen\n",
            "yen\n"
          ]
        }
      ]
    },
    {
      "cell_type": "code",
      "source": [
        "#BÀi10\n",
        "total = 0\n",
        "\n",
        "count = 0\n",
        "\n",
        "while (True):\n",
        "\n",
        "  inp = input(\"Enter a number: \")\n",
        "\n",
        "  if inp == \"ok\":\n",
        "\n",
        "    break\n",
        "\n",
        "  value = float(inp)\n",
        "\n",
        "  total = total + value\n",
        "\n",
        "  count = count + 1\n",
        "\n",
        "average = total / count\n",
        "\n",
        "print(\"Average is:\", average)"
      ],
      "metadata": {
        "colab": {
          "base_uri": "https://localhost:8080/"
        },
        "id": "izD31WN9NF0r",
        "outputId": "d0f55260-7d48-4d30-e617-b11202131457"
      },
      "execution_count": null,
      "outputs": [
        {
          "output_type": "stream",
          "name": "stdout",
          "text": [
            "Enter a number: 10\n",
            "Enter a number: 20\n",
            "Enter a number: 15\n",
            "Enter a number: done\n",
            "Average is: 15.0\n"
          ]
        }
      ]
    },
    {
      "cell_type": "code",
      "source": [
        "#BÀi11\n",
        "numlist = list()\n",
        "\n",
        "while (True):\n",
        "\n",
        "  inp = input(\"Enter a number: \")\n",
        "\n",
        "  if inp == \"done\":\n",
        "\n",
        "    break\n",
        "\n",
        "  value = float(inp)\n",
        "\n",
        "  numlist.append(value)\n",
        "\n",
        "average = sum(numlist) / len(numlist)\n",
        "\n",
        "print(\"Giá trị Trung bình:\", average)\n",
        "\n",
        "print(numlist)"
      ],
      "metadata": {
        "colab": {
          "base_uri": "https://localhost:8080/"
        },
        "id": "-OAYsB-eNqaK",
        "outputId": "feb6ebb7-5c0a-4d7f-bcff-4ea570b723df"
      },
      "execution_count": null,
      "outputs": [
        {
          "output_type": "stream",
          "name": "stdout",
          "text": [
            "Enter a number: 2\n",
            "Enter a number: 3\n",
            "Enter a number: 4\n",
            "Enter a number: done\n",
            "Giá trị Trung bình: 3.0\n",
            "[2.0, 3.0, 4.0]\n"
          ]
        }
      ]
    },
    {
      "cell_type": "code",
      "source": [
        "#Bai12\n",
        "j=[]\n",
        "for i in range(2000, 3201):\n",
        "  if (i % 7 == 0) and (i % 5 != 0):\n",
        "    j.append(str(i))\n",
        "print(\",\".join(j))"
      ],
      "metadata": {
        "colab": {
          "base_uri": "https://localhost:8080/"
        },
        "id": "T2v_Nj-gbn4y",
        "outputId": "ad3c2b44-b5ae-4678-d2c9-e5386f5ba9a8"
      },
      "execution_count": null,
      "outputs": [
        {
          "output_type": "stream",
          "name": "stdout",
          "text": [
            "2002,2009,2016,2023,2037,2044,2051,2058,2072,2079,2086,2093,2107,2114,2121,2128,2142,2149,2156,2163,2177,2184,2191,2198,2212,2219,2226,2233,2247,2254,2261,2268,2282,2289,2296,2303,2317,2324,2331,2338,2352,2359,2366,2373,2387,2394,2401,2408,2422,2429,2436,2443,2457,2464,2471,2478,2492,2499,2506,2513,2527,2534,2541,2548,2562,2569,2576,2583,2597,2604,2611,2618,2632,2639,2646,2653,2667,2674,2681,2688,2702,2709,2716,2723,2737,2744,2751,2758,2772,2779,2786,2793,2807,2814,2821,2828,2842,2849,2856,2863,2877,2884,2891,2898,2912,2919,2926,2933,2947,2954,2961,2968,2982,2989,2996,3003,3017,3024,3031,3038,3052,3059,3066,3073,3087,3094,3101,3108,3122,3129,3136,3143,3157,3164,3171,3178,3192,3199\n"
          ]
        }
      ]
    },
    {
      "cell_type": "code",
      "source": [
        "#Bài13\n",
        "lines = []\n",
        "\n",
        "while True:\n",
        "\n",
        "  s = input()\n",
        "\n",
        "  if s:\n",
        "\n",
        "    lines.append(s.upper())\n",
        "\n",
        "  else:\n",
        "\n",
        "    break;\n",
        "\n",
        "for sentence in lines:\n",
        "\n",
        "  print(sentence)"
      ],
      "metadata": {
        "colab": {
          "base_uri": "https://localhost:8080/"
        },
        "id": "sEc-NP1LlJyU",
        "outputId": "ebc2cd6f-712c-4e9c-ac3f-70926bbae038"
      },
      "execution_count": null,
      "outputs": [
        {
          "output_type": "stream",
          "name": "stdout",
          "text": [
            "chào\n",
            "các\n",
            "bạn\n",
            "\n",
            "CHÀO\n",
            "CÁC\n",
            "BẠN\n"
          ]
        }
      ]
    },
    {
      "cell_type": "code",
      "source": [
        "#Bài 14\n",
        "values = []\n",
        "for i in range(100, 301):\n",
        "    s = str(i)\n",
        "    if (int(s[0])%2==0) and (int(s[1])%2==0) and (int(s[2])%2==0):\n",
        "      values.append(s)\n",
        "print(\",\".join(values))"
      ],
      "metadata": {
        "colab": {
          "base_uri": "https://localhost:8080/"
        },
        "id": "icM3RGLYlcbB",
        "outputId": "81b88656-7f3e-45ad-aa4d-f03b47f728ee"
      },
      "execution_count": null,
      "outputs": [
        {
          "output_type": "stream",
          "name": "stdout",
          "text": [
            "200,202,204,206,208,220,222,224,226,228,240,242,244,246,248,260,262,264,266,268,280,282,284,286,288\n"
          ]
        }
      ]
    },
    {
      "cell_type": "code",
      "source": [
        "#Bài 15\n",
        "chuoi=input(\"Nhập vào các giá trị:\")\n",
        "kieu_ds=chuoi.split(\",\")\n",
        "kieu_tuples=tuple(kieu_ds)\n",
        "print(kieu_ds)\n",
        "print(kieu_tuples)"
      ],
      "metadata": {
        "colab": {
          "base_uri": "https://localhost:8080/"
        },
        "id": "TrZUQ5Illw7z",
        "outputId": "85a047d5-f4f5-496b-bf74-f4ab645e5bc2"
      },
      "execution_count": null,
      "outputs": [
        {
          "output_type": "stream",
          "name": "stdout",
          "text": [
            "Nhập vào các giá trị:7\n",
            "['7']\n",
            "('7',)\n"
          ]
        }
      ]
    },
    {
      "cell_type": "code",
      "source": [
        "#Bài 16\n",
        "n=int(input(\"Nhập vào một số:\"))\n",
        "d=dict()\n",
        "for i in range(1,n+1):\n",
        "  d[i]=i*i\n",
        "print(d)"
      ],
      "metadata": {
        "colab": {
          "base_uri": "https://localhost:8080/"
        },
        "id": "8R2WGKUCl2AE",
        "outputId": "348cf6ab-f984-4587-ed68-8d6985cd6cca"
      },
      "execution_count": null,
      "outputs": [
        {
          "output_type": "stream",
          "name": "stdout",
          "text": [
            "Nhập vào một số:7\n",
            "{1: 1, 2: 4, 3: 9, 4: 16, 5: 25, 6: 36, 7: 49}\n"
          ]
        }
      ]
    },
    {
      "cell_type": "code",
      "source": [
        "#Bài 17\n",
        "# Chương trình đếm số chữ cái và chữ số\n",
        "def dem_chu_cai_va_chu_so(cau):\n",
        "    ket_qua = {'chu_cai': 0, 'chu_so': 0}\n",
        "\n",
        "    for ch in cau:\n",
        "        if ch.isalpha():\n",
        "            ket_qua['chu_cai'] += 1\n",
        "        elif ch.isdigit():\n",
        "            ket_qua['chu_so'] += 1\n",
        "\n",
        "    return ket_qua\n",
        "\n",
        "# Nhập câu từ người dùng\n",
        "cau = input(\"Nhập một câu: \")\n",
        "\n",
        "# Gọi hàm và lấy kết quả\n",
        "ket_qua = dem_chu_cai_va_chu_so(cau)\n",
        "\n",
        "# In kết quả\n",
        "print(f\"Số chữ cái là: {ket_qua['chu_cai']}\")\n",
        "print(f\"Số chữ số là: {ket_qua['chu_so']}\")\n"
      ],
      "metadata": {
        "colab": {
          "base_uri": "https://localhost:8080/"
        },
        "id": "YkPrcx3al8wV",
        "outputId": "61c9de46-1d78-4de7-9fa2-d54dbb090aed"
      },
      "execution_count": null,
      "outputs": [
        {
          "output_type": "stream",
          "name": "stdout",
          "text": [
            "Nhập một câu: hgguy6998\n",
            "Số chữ cái là: 5\n",
            "Số chữ số là: 4\n"
          ]
        }
      ]
    },
    {
      "cell_type": "code",
      "source": [
        "#Bài18\n",
        "chuoi = input(\"Nhập vào một số:\")\n",
        "d= {\"chu_hoa\":0 , \"chu_thuong: 0}\n",
        "for ch in chuoi:\n",
        "if ch.isupper() == True:\n",
        "\n",
        "d[chu_hoa] +=1\n",
        "\n",
        "elif ch.islower() == True:\n",
        "\n",
        "d[chu_thuong] +=1\n",
        "\n",
        "else:\n",
        "\n",
        "pass\n",
        "\n",
        "print(\"Số chữ hoa là:\", d[\"chu_hoa\"])\n",
        "print(\"Số chữ thường là:\", d[\"chu_thường\"])"
      ],
      "metadata": {
        "id": "JNjpv-h_mi74"
      },
      "execution_count": null,
      "outputs": []
    },
    {
      "cell_type": "code",
      "source": [
        "#Bài19\n",
        "ftext = open(\"romeo.txt\")\n",
        "\n",
        "tu_dien_cac_tu = {}\n",
        "\n",
        "for dong in ftext:\n",
        "\n",
        "danh_sach_tu = dong.split()\n",
        "\n",
        "for tu in danh_sach_tu:\n",
        "\n",
        "tu_dien_cac_tu[tu] = tu_dien_cac_tu.get(tu, 0) + 1\n",
        "\n",
        "danh_sach = []\n",
        "\n",
        "for key, val in tu_dien_cac_tu.items():\n",
        "\n",
        "newtup = (val, key)\n",
        "\n",
        "danh_sach.append(newtup)\n",
        "\n",
        "danh_sach = sorted(danh_sach, reverse=True)\n",
        "\n",
        "for val, key in danh_sach[:10] :\n",
        "\n",
        "print(key, val)"
      ],
      "metadata": {
        "id": "UwGJewv5mldh"
      },
      "execution_count": null,
      "outputs": []
    },
    {
      "cell_type": "code",
      "source": [
        "#Bài20\n",
        "x=int(input(\"Nhập số cần tính giai thừa:\"))\n",
        "def giaithua(x):\n",
        "if x == 0:\n",
        "return 1\n",
        "return x * giaithua(x - 1)\n",
        "print(\"Giai thừa của\",x, \"là:\", giaithua(x))"
      ],
      "metadata": {
        "id": "g-XvfIijmqNY"
      },
      "execution_count": null,
      "outputs": []
    },
    {
      "cell_type": "code",
      "source": [
        "#Bài21\n",
        "def Tao_In_DS():\n",
        "ds=list()\n",
        "for i in range(1,21):\n",
        "ds.append(i**2)\n",
        "print(ds)\n",
        "\n",
        "Tao_In_DS()"
      ],
      "metadata": {
        "id": "rVpuXg5HmtsD"
      },
      "execution_count": null,
      "outputs": []
    },
    {
      "cell_type": "code",
      "source": [
        "#Bài22\n",
        "def Tao_In_DS():\n",
        "ds=list()\n",
        "for i in range(1,21):\n",
        "ds.append(i**2)\n",
        "print(ds[:5]+ds[len(ds-5):])\n",
        "\n",
        "Tao_In_DS()"
      ],
      "metadata": {
        "id": "2upW5_Lomwt2"
      },
      "execution_count": null,
      "outputs": []
    },
    {
      "cell_type": "code",
      "source": [
        "#Bai26\n",
        "\n",
        "def check_letter(letter):\n",
        "\n",
        "    #chuoi nguyen am\n",
        "    str1 = \"\"\"ueoai\"\"\"\n",
        "\n",
        "    # Chuyển chữ cái thành dạng chữ thường\n",
        "    letter = letter.lower()\n",
        "\n",
        "    # Kiểm tra điều kiện và in ra kết quả\n",
        "    if letter in str1:\n",
        "        print(f\"'{letter}' là nguyên âm.\")\n",
        "    elif letter == 'y':\n",
        "        print(\"'y' có thể là nguyên âm hoặc phụ âm.\")\n",
        "    else:\n",
        "        print(f\"'{letter}' là phụ âm.\")\n",
        "\n",
        "# Yêu cầu người dùng nhập một chữ cái\n",
        "letter = input(\"Nhập một chữ cái: \")\n",
        "\n",
        "# Gọi hàm để kiểm tra ngay khi người dùng nhập\n",
        "check_letter(letter)"
      ],
      "metadata": {
        "colab": {
          "base_uri": "https://localhost:8080/"
        },
        "id": "6Ek9SLkpOpLj",
        "outputId": "94fa4a30-3a98-4e21-9c21-b6a11f82dab0"
      },
      "execution_count": null,
      "outputs": [
        {
          "output_type": "stream",
          "name": "stdout",
          "text": [
            "Nhập một chữ cái: u\n",
            "'u' là nguyên âm.\n"
          ]
        }
      ]
    },
    {
      "cell_type": "code",
      "source": [
        "#Bai27\n",
        "def ten_hinh_dang(so_canh):\n",
        "    hinh_dang = {\n",
        "        3: \"Hình tam giác\",\n",
        "        4: \"Hình tứ giác\",\n",
        "        5: \"Hình ngũ giác\",\n",
        "        6: \"Hình lục giác\",\n",
        "        7: \"Hình thất giác\",\n",
        "        8: \"Hình bát giác\",\n",
        "        9: \"Hình cửu giác\",\n",
        "        10: \"Hình thập giác\"\n",
        "    }\n",
        "\n",
        "    if 3 <= so_canh <= 10:\n",
        "        return hinh_dang[so_canh]\n",
        "    else:\n",
        "        return \"Lỗi: Số cạnh không hợp lệ. Vui lòng nhập số từ 3 đến 10.\"\n",
        "\n",
        "# Ví dụ sử dụng:\n",
        "so_canh = int(input(\"Nhập số cạnh của hình dạng: \"))\n",
        "print(ten_hinh_dang(so_canh))"
      ],
      "metadata": {
        "colab": {
          "base_uri": "https://localhost:8080/"
        },
        "id": "74hekh7tTUho",
        "outputId": "8446099c-f85c-40b6-aaee-17778934a66e"
      },
      "execution_count": null,
      "outputs": [
        {
          "output_type": "stream",
          "name": "stdout",
          "text": [
            "Nhập số cạnh của hình dạng: 5\n",
            "Hình ngũ giác\n"
          ]
        }
      ]
    },
    {
      "cell_type": "code",
      "source": [
        "#Bai28\n",
        "def so_ngay_trong_thang(ten_thang):\n",
        "    # Đổi chuỗi nhập vào thành chữ thường để dễ so sánh\n",
        "    ten_thang = ten_thang.lower()\n",
        "\n",
        "    # Tạo từ điển chứa tên tháng và số ngày tương ứng\n",
        "    thang_ngay = {\n",
        "        \"thang1\": 31,\n",
        "        \"thang2\": \"28 hoặc 29\",\n",
        "        \"thang3\": 31,\n",
        "        \"thang4\": 30,\n",
        "        \"thang5\": 31,\n",
        "        \"thang6\": 30,\n",
        "        \"thang7\": 31,\n",
        "        \"thang8\": 31,\n",
        "        \"thang9\": 30,\n",
        "        \"thang10\": 31,\n",
        "        \"thang11\": 30,\n",
        "        \"thang12\": 31\n",
        "    }\n",
        "\n",
        "    # Kiểm tra và trả về số ngày\n",
        "    if ten_thang in thang_ngay:\n",
        "        return f\"Số ngày của tháng {ten_thang.capitalize()} là: {thang_ngay[ten_thang]}\"\n",
        "    else:\n",
        "        return \"Tên tháng không hợp lệ. Vui lòng nhập lại tên tháng.\"\n",
        "\n",
        "# Ví dụ sử dụng:\n",
        "ten_thang = input(\"Nhập tên tháng: \")\n",
        "print(so_ngay_trong_thang(ten_thang))\n"
      ],
      "metadata": {
        "colab": {
          "base_uri": "https://localhost:8080/"
        },
        "id": "CkHY1yguTggW",
        "outputId": "2043a1b4-f2eb-417c-d184-b56feaff1a34"
      },
      "execution_count": null,
      "outputs": [
        {
          "output_type": "stream",
          "name": "stdout",
          "text": [
            "Nhập tên tháng: thang30\n",
            "Tên tháng không hợp lệ. Vui lòng nhập lại tên tháng.\n"
          ]
        }
      ]
    },
    {
      "cell_type": "code",
      "source": [
        "#Bai29\n",
        "def phan_loai_tam_giac(a, b, c):\n",
        "    # Kiểm tra xem 3 cạnh có tạo thành một tam giác hay không\n",
        "    if a + b > c and a + c > b and b + c > a:\n",
        "        # Kiểm tra loại tam giác\n",
        "        if a == b == c:\n",
        "            return \"Tam giác đều\"\n",
        "        elif a == b or b == c or a == c:\n",
        "            return \"Tam giác cân\"\n",
        "        elif a**2 + b**2 == c**2 or a**2 + c**2 == b**2 or b**2 + c**2 == a**2:\n",
        "            return \"Tam giác vuông\"\n",
        "        else:\n",
        "            return \"Tam giác thường\"\n",
        "    else:\n",
        "        return \"Ba cạnh không tạo thành một tam giác hợp lệ.\"\n",
        "\n",
        "# Nhập độ dài các cạnh\n",
        "a = float(input(\"Nhập độ dài cạnh thứ nhất: \"))\n",
        "b = float(input(\"Nhập độ dài cạnh thứ hai: \"))\n",
        "c = float(input(\"Nhập độ dài cạnh thứ ba: \"))\n",
        "\n",
        "# Hiển thị kết quả\n",
        "print(phan_loai_tam_giac(a, b, c))\n",
        "\n"
      ],
      "metadata": {
        "colab": {
          "base_uri": "https://localhost:8080/"
        },
        "id": "A8WKCnszUG7a",
        "outputId": "d96249b6-2699-48a1-d35a-361a182e9279"
      },
      "execution_count": null,
      "outputs": [
        {
          "output_type": "stream",
          "name": "stdout",
          "text": [
            "Nhập độ dài cạnh thứ nhất: 3\n",
            "Nhập độ dài cạnh thứ hai: 4\n",
            "Nhập độ dài cạnh thứ ba: 5\n",
            "Tam giác vuông\n"
          ]
        }
      ]
    },
    {
      "cell_type": "code",
      "source": [
        "#Bai30\n",
        "def kiem_tra_nam_nhuan(nam):\n",
        "    if nam % 400 == 0:\n",
        "        return f\"{nam} là năm nhuận.\"\n",
        "    elif nam % 100 == 0:\n",
        "        return f\"{nam} không phải là năm nhuận.\"\n",
        "    elif nam % 4 == 0:\n",
        "        return f\"{nam} là năm nhuận.\"\n",
        "    else:\n",
        "        return f\"{nam} không phải là năm nhuận.\"\n",
        "\n",
        "# Nhập năm từ người dùng\n",
        "nam = int(input(\"Nhập một năm: \"))\n",
        "\n",
        "# Hiển thị kết quả\n",
        "print(kiem_tra_nam_nhuan(nam))\n"
      ],
      "metadata": {
        "colab": {
          "base_uri": "https://localhost:8080/"
        },
        "id": "n5wcyqJRUn32",
        "outputId": "4e233e73-a8cc-4b10-806f-620f3ac5d154"
      },
      "execution_count": null,
      "outputs": [
        {
          "output_type": "stream",
          "name": "stdout",
          "text": [
            "Nhập một năm: 3024\n",
            "3024 là năm nhuận.\n"
          ]
        }
      ]
    },
    {
      "cell_type": "code",
      "source": [
        "#Bai 31\n",
        "def ma_hoa_caesar(tin_nhan):\n",
        "    ket_qua = \"\"\n",
        "\n",
        "    for ky_tu in tin_nhan:\n",
        "        # Kiểm tra nếu ký tự là chữ cái hoa\n",
        "        if 'A' <= ky_tu <= 'Z':\n",
        "            # Chuyển ký tự lên 3 vị trí trong bảng chữ cái\n",
        "            ky_tu_moi = chr((ord(ky_tu) - ord('A') + 3) % 26 + ord('A'))\n",
        "            ket_qua += ky_tu_moi\n",
        "        # Kiểm tra nếu ký tự là chữ cái thường\n",
        "        elif 'a' <= ky_tu <= 'z':\n",
        "            # Chuyển ký tự lên 3 vị trí trong bảng chữ cái\n",
        "            ky_tu_moi = chr((ord(ky_tu) - ord('a') + 3) % 26 + ord('a'))\n",
        "            ket_qua += ky_tu_moi\n",
        "        else:\n",
        "            # Ký tự không phải chữ cái, giữ nguyên\n",
        "            ket_qua += ky_tu\n",
        "\n",
        "    return ket_qua\n",
        "\n",
        "# Nhập tin nhắn từ người dùng\n",
        "tin_nhan = input(\"Nhập tin nhắn để mã hóa: \")\n",
        "\n",
        "# Mã hóa và hiển thị kết quả\n",
        "print(\"Tin nhắn đã được mã hóa:\", ma_hoa_caesar(tin_nhan))\n"
      ],
      "metadata": {
        "colab": {
          "base_uri": "https://localhost:8080/"
        },
        "id": "ACc7Mgs4WN7G",
        "outputId": "c5096e68-5606-4321-d3d4-fb7474418caa"
      },
      "execution_count": null,
      "outputs": [
        {
          "output_type": "stream",
          "name": "stdout",
          "text": [
            "Nhập tin nhắn để mã hóa: Anh yeu be nhieu lam\n",
            "Tin nhắn đã được mã hóa: Dqk bhx eh qklhx odp\n"
          ]
        }
      ]
    },
    {
      "cell_type": "code",
      "source": [
        "#Bai32\n",
        "def ma_hoa_caesar(tin_nhan, shift):\n",
        "    ket_qua = \"\"\n",
        "\n",
        "    for ky_tu in tin_nhan:\n",
        "        # Kiểm tra nếu ký tự là chữ cái hoa\n",
        "        if 'A' <= ky_tu <= 'Z':\n",
        "            # Chuyển ký tự lên hoặc xuống số vị trí được chỉ định trong bảng chữ cái\n",
        "            ky_tu_moi = chr((ord(ky_tu) - ord('A') + shift) % 26 + ord('A'))\n",
        "            ket_qua += ky_tu_moi\n",
        "        # Kiểm tra nếu ký tự là chữ cái thường\n",
        "        elif 'a' <= ky_tu <= 'z':\n",
        "            # Chuyển ký tự lên hoặc xuống số vị trí được chỉ định trong bảng chữ cái\n",
        "            ky_tu_moi = chr((ord(ky_tu) - ord('a') + shift) % 26 + ord('a'))\n",
        "            ket_qua += ky_tu_moi\n",
        "        else:\n",
        "            # Ký tự không phải chữ cái, giữ nguyên\n",
        "            ket_qua += ky_tu\n",
        "\n",
        "    return ket_qua\n",
        "\n",
        "def main():\n",
        "    # Nhập tin nhắn từ người dùng\n",
        "    tin_nhan = input(\"Nhập tin nhắn: \")\n",
        "\n",
        "    # Nhập số ký tự dịch chuyển từ người dùng\n",
        "    shift = int(input(\"Nhập số ký tự dịch chuyển: \"))\n",
        "\n",
        "    # Nhập lựa chọn của người dùng\n",
        "    lua_chon = input(\"Nhập 'E' để mã hóa hoặc 'D' để giải mã: \").strip().upper()\n",
        "\n",
        "    if lua_chon == 'E':\n",
        "        # Mã hóa tin nhắn\n",
        "        tin_nhan_ma_hoa = ma_hoa_caesar(tin_nhan, shift)\n",
        "        print(\"Tin nhắn đã được mã hóa:\", tin_nhan_ma_hoa)\n",
        "    elif lua_chon == 'D':\n",
        "        # Giải mã tin nhắn (sử dụng số ký tự dịch chuyển âm)\n",
        "        tin_nhan_giai_ma = ma_hoa_caesar(tin_nhan, -shift)\n",
        "        print(\"Tin nhắn đã được giải mã:\", tin_nhan_giai_ma)\n",
        "    else:\n",
        "        print(\"Lựa chọn không hợp lệ. Vui lòng nhập 'E' hoặc 'D'.\")\n",
        "\n",
        "# Chạy chương trình chính\n",
        "main()\n"
      ],
      "metadata": {
        "colab": {
          "base_uri": "https://localhost:8080/"
        },
        "id": "p-doWrZjYZNj",
        "outputId": "62fcea34-4ce4-44bc-f9d9-a8a57406b68f"
      },
      "execution_count": null,
      "outputs": [
        {
          "output_type": "stream",
          "name": "stdout",
          "text": [
            "Nhập tin nhắn: FSm djz gj smnjz qfr\n",
            "Nhập số ký tự dịch chuyển: 5\n",
            "Nhập 'E' để mã hóa hoặc 'D' để giải mã: D\n",
            "Tin nhắn đã được giải mã: ANh yeu be nhieu lam\n"
          ]
        }
      ]
    },
    {
      "cell_type": "code",
      "source": [
        "#Bai33\n",
        "def kiem_tra_palindrom(chuoi):\n",
        "    # Loại bỏ khoảng trắng và chuyển tất cả ký tự về chữ thường để so sánh chính xác\n",
        "    chuoi = chuoi.replace(\" \", \"\").lower()\n",
        "\n",
        "    # Tạo phiên bản đảo ngược của chuỗi\n",
        "    chuoi_dao_nguoc = \"\"\n",
        "    for ky_tu in chuoi:\n",
        "        chuoi_dao_nguoc = ky_tu + chuoi_dao_nguoc\n",
        "\n",
        "    # Kiểm tra nếu chuỗi đảo ngược giống như chuỗi gốc\n",
        "    if chuoi == chuoi_dao_nguoc:\n",
        "        return f\"\\\"{chuoi}\\\" là một Palindrom.\"\n",
        "    else:\n",
        "        return f\"\\\"{chuoi}\\\" không phải là một Palindrom.\"\n",
        "\n",
        "# Nhập chuỗi từ người dùng\n",
        "chuoi = input(\"Nhập một chuỗi: \")\n",
        "\n",
        "# Kiểm tra và hiển thị kết quả\n",
        "print(kiem_tra_palindrom(chuoi))\n"
      ],
      "metadata": {
        "colab": {
          "base_uri": "https://localhost:8080/"
        },
        "id": "zqHTxASIY0se",
        "outputId": "afef7d6d-9a36-4e66-a825-b3c20c5d0e67"
      },
      "execution_count": null,
      "outputs": [
        {
          "output_type": "stream",
          "name": "stdout",
          "text": [
            "Nhập một chuỗi: nan\n",
            "\"nan\" là một Palindrom.\n"
          ]
        }
      ]
    },
    {
      "cell_type": "code",
      "source": [
        "#Bai34\n",
        "def chuyen_thap_phan_sang_nhi_phan(so_thap_phan):\n",
        "    # Xử lý trường hợp số âm\n",
        "    if so_thap_phan < 0:\n",
        "        return \"Số âm không thể chuyển đổi sang nhị phân.\"\n",
        "\n",
        "    # Xử lý trường hợp số 0\n",
        "    if so_thap_phan == 0:\n",
        "        return \"0\"\n",
        "\n",
        "    # Chuyển đổi số thập phân thành nhị phân\n",
        "    so_nhi_phan = \"\"\n",
        "    while so_thap_phan > 0:\n",
        "        so_nhi_phan = str(so_thap_phan % 2) + so_nhi_phan\n",
        "        so_thap_phan //= 2\n",
        "\n",
        "    return so_nhi_phan\n",
        "\n",
        "# Nhập số thập phân từ người dùng\n",
        "try:\n",
        "    so_thap_phan = int(input(\"Nhập một số nguyên: \"))\n",
        "    ket_qua = chuyen_thap_phan_sang_nhi_phan(so_thap_phan)\n",
        "    print(f\"Số thập phân {so_thap_phan} được chuyển đổi thành số nhị phân: {ket_qua}\")\n",
        "except ValueError:\n",
        "    print(\"Vui lòng nhập một số nguyên hợp lệ.\")\n"
      ],
      "metadata": {
        "colab": {
          "base_uri": "https://localhost:8080/"
        },
        "id": "Tzxztod_ZvzR",
        "outputId": "4c32136e-23d8-49ed-890b-213afb1ae9f4"
      },
      "execution_count": null,
      "outputs": [
        {
          "output_type": "stream",
          "name": "stdout",
          "text": [
            "Nhập một số nguyên: 200\n",
            "Số thập phân 200 được chuyển đổi thành số nhị phân: 11001000\n"
          ]
        }
      ]
    },
    {
      "cell_type": "code",
      "source": [
        "#Bai35\n",
        "def lay_so_le(danh_sach_so):\n",
        "    # Lọc ra các số lẻ từ danh sách số\n",
        "    so_le = [so for so in danh_sach_so if so % 2 != 0]\n",
        "    return so_le\n",
        "\n",
        "def main():\n",
        "    # Nhập chuỗi số từ người dùng và chuyển đổi thành danh sách số nguyên\n",
        "    try:\n",
        "        chuoi_so = input(\"Nhập các số cách nhau bằng dấu phẩy (ví dụ: 1,2,3,4,5,6,7,8,9): \")\n",
        "        danh_sach_so = [int(so.strip()) for so in chuoi_so.split(',')]\n",
        "\n",
        "        # Lấy danh sách các số lẻ\n",
        "        danh_sach_so_le = lay_so_le(danh_sach_so)\n",
        "\n",
        "        # Hiển thị kết quả\n",
        "        print(\"Danh sách các số lẻ:\", ','.join(map(str, danh_sach_so_le)))\n",
        "\n",
        "    except ValueError:\n",
        "        print(\"Vui lòng nhập một danh sách số hợp lệ, cách nhau bằng dấu phẩy.\")\n",
        "\n",
        "# Chạy chương trình chính\n",
        "main()\n"
      ],
      "metadata": {
        "colab": {
          "base_uri": "https://localhost:8080/"
        },
        "id": "konbfgeQaYlq",
        "outputId": "7dd9c42d-faee-49c0-d1d5-c1940e9ec741"
      },
      "execution_count": null,
      "outputs": [
        {
          "output_type": "stream",
          "name": "stdout",
          "text": [
            "Nhập các số cách nhau bằng dấu phẩy (ví dụ: 1,2,3,4,5,6,7,8,9): 1,2,3,4,5,8,10,12,15,14\n",
            "Danh sách các số lẻ: 2,4,8,10,12,14\n"
          ]
        }
      ]
    },
    {
      "cell_type": "code",
      "source": [
        "#Bai36\n",
        "def main():\n",
        "    danh_sach_so = []\n",
        "\n",
        "    print(\"Nhập các số nguyên. Nhập 0 để kết thúc.\")\n",
        "\n",
        "    while True:\n",
        "        try:\n",
        "            so = int(input(\"Nhập một số nguyên: \"))\n",
        "            if so == 0:\n",
        "                break\n",
        "            danh_sach_so.append(so)\n",
        "        except ValueError:\n",
        "            print(\"Vui lòng nhập một số nguyên hợp lệ.\")\n",
        "\n",
        "    # Sắp xếp danh sách các số theo thứ tự tăng dần\n",
        "    danh_sach_so.sort()\n",
        "\n",
        "    # Hiển thị các giá trị theo thứ tự tăng dần, mỗi giá trị trên một dòng\n",
        "    print(\"Danh sách các số theo thứ tự tăng dần:\")\n",
        "    for so in danh_sach_so:\n",
        "        print(so)\n",
        "\n",
        "# Chạy chương trình chính\n",
        "main()\n"
      ],
      "metadata": {
        "colab": {
          "base_uri": "https://localhost:8080/"
        },
        "id": "pMb09b53a04M",
        "outputId": "41bf2fa1-0ca2-498c-8fda-352232e5c3ca"
      },
      "execution_count": null,
      "outputs": [
        {
          "output_type": "stream",
          "name": "stdout",
          "text": [
            "Nhập các số nguyên. Nhập 0 để kết thúc.\n",
            "Nhập một số nguyên: 1\n",
            "Nhập một số nguyên: 2\n",
            "Nhập một số nguyên: 5\n",
            "Nhập một số nguyên: 8\n",
            "Nhập một số nguyên: \n",
            "Vui lòng nhập một số nguyên hợp lệ.\n",
            "Nhập một số nguyên: 4\n",
            "Nhập một số nguyên: 0\n",
            "Danh sách các số theo thứ tự tăng dần:\n",
            "1\n",
            "2\n",
            "4\n",
            "5\n",
            "8\n"
          ]
        }
      ]
    },
    {
      "cell_type": "code",
      "source": [
        "#Bai37\n",
        "def main():\n",
        "    danh_sach_tu = []\n",
        "    cac_tu_da_nhap = set()  # Sử dụng tập để lưu trữ các từ duy nhất\n",
        "\n",
        "    print(\"Nhập các từ (Nhập một dòng trống để kết thúc):\")\n",
        "\n",
        "    while True:\n",
        "        tu = input()  # Đọc từ do người dùng nhập\n",
        "        if tu == \"\":  # Kiểm tra nếu người dùng nhập một dòng trống\n",
        "            break\n",
        "        if tu not in cac_tu_da_nhap:  # Kiểm tra nếu từ chưa có trong tập\n",
        "            danh_sach_tu.append(tu)  # Thêm từ vào danh sách nếu chưa trùng\n",
        "            cac_tu_da_nhap.add(tu)  # Thêm từ vào tập để theo dõi từ đã nhập\n",
        "\n",
        "    # Hiển thị các từ không trùng theo thứ tự xuất hiện\n",
        "    print(\"Các từ sau khi loại bỏ từ trùng lặp:\")\n",
        "    for tu in danh_sach_tu:\n",
        "        print(tu)\n",
        "\n",
        "# Chạy chương trình chính\n",
        "main()\n",
        "b"
      ],
      "metadata": {
        "colab": {
          "base_uri": "https://localhost:8080/"
        },
        "id": "tOI292kk9etf",
        "outputId": "1e4890f6-2874-46e2-eee2-0f3c376ad854"
      },
      "execution_count": null,
      "outputs": [
        {
          "output_type": "stream",
          "name": "stdout",
          "text": [
            "Nhập các từ (Nhập một dòng trống để kết thúc):\n",
            "mot\n",
            "hai\n",
            "hai\n",
            "ba\n",
            "bon\n",
            "mot\n",
            "nam\n",
            "sau\n",
            "nam\n",
            "\n",
            "Các từ sau khi loại bỏ từ trùng lặp:\n",
            "mot\n",
            "hai\n",
            "ba\n",
            "bon\n",
            "nam\n",
            "sau\n"
          ]
        }
      ]
    },
    {
      "cell_type": "code",
      "source": [
        "#Bai38\n",
        "def main():\n",
        "    so_am = []     # Danh sách để lưu trữ các số âm\n",
        "    so_khong = []  # Danh sách để lưu trữ các số 0\n",
        "    so_duong = []  # Danh sách để lưu trữ các số dương\n",
        "\n",
        "    print(\"Nhập các số nguyên (Nhập một dòng trống để kết thúc):\")\n",
        "\n",
        "    while True:\n",
        "        try:\n",
        "            so = input()  # Đọc số từ người dùng\n",
        "            if so == \"\":  # Kiểm tra nếu người dùng nhập một dòng trống\n",
        "                break\n",
        "            so = int(so)\n",
        "\n",
        "            if so < 0:\n",
        "                so_am.append(so)     # Thêm số vào danh sách số âm\n",
        "            elif so == 0:\n",
        "                so_khong.append(so)  # Thêm số vào danh sách số 0\n",
        "            else:\n",
        "                so_duong.append(so)  # Thêm số vào danh sách số dương\n",
        "\n",
        "        except ValueError:\n",
        "            print(\"Vui lòng nhập một số nguyên hợp lệ.\")\n",
        "\n",
        "    # Hiển thị các số theo quy tắc\n",
        "    print(\"Các số sau khi sắp xếp theo nhóm:\")\n",
        "\n",
        "    # Hiển thị các số âm\n",
        "    for so in so_am:\n",
        "        print(so, end=\" \")\n",
        "\n",
        "    # Hiển thị các số 0\n",
        "    for so in so_khong:\n",
        "        print(so, end=\" \")\n",
        "\n",
        "    # Hiển thị các số dương\n",
        "    for so in so_duong:\n",
        "        print(so, end=\" \")\n",
        "\n",
        "# Chạy chương trình chính\n",
        "main()\n"
      ],
      "metadata": {
        "colab": {
          "base_uri": "https://localhost:8080/"
        },
        "id": "CLiRu60F9-R8",
        "outputId": "92e94e0c-f178-4b77-af72-40b24641d4f0"
      },
      "execution_count": null,
      "outputs": [
        {
          "output_type": "stream",
          "name": "stdout",
          "text": [
            "Nhập các số nguyên (Nhập một dòng trống để kết thúc):\n",
            "3\n",
            "-4\n",
            "1\n",
            "0\n",
            "-1\n",
            "0\n",
            "-2\n",
            "\n",
            "Các số sau khi sắp xếp theo nhóm:\n",
            "-4 -1 -2 0 0 3 1 "
          ]
        }
      ]
    },
    {
      "cell_type": "code",
      "source": [
        "#Bai39\n",
        "def tao_dictionary(n):\n",
        "    # Tạo dictionary với các cặp (i, i*i)\n",
        "    dict_ket_qua = {i: i*i for i in range(1, n+1)}\n",
        "    return dict_ket_qua\n",
        "\n",
        "# Nhập số nguyên n từ người dùng\n",
        "try:\n",
        "    n = int(input(\"Nhập một số nguyên n: \"))\n",
        "    if n > 0:\n",
        "        dict_ket_qua = tao_dictionary(n)\n",
        "        print(\"Dictionary chứa các cặp (i, i*i):\", dict_ket_qua)\n",
        "    else:\n",
        "        print(\"Vui lòng nhập một số nguyên dương.\")\n",
        "except ValueError:\n",
        "    print(\"Vui lòng nhập một số nguyên hợp lệ.\")\n"
      ],
      "metadata": {
        "colab": {
          "base_uri": "https://localhost:8080/"
        },
        "id": "JCA-bPbS-NWS",
        "outputId": "352bf0d9-3975-4620-d350-00aa1653eb3b"
      },
      "execution_count": null,
      "outputs": [
        {
          "output_type": "stream",
          "name": "stdout",
          "text": [
            "Nhập một số nguyên n: 9\n",
            "Dictionary chứa các cặp (i, i*i): {1: 1, 2: 4, 3: 9, 4: 16, 5: 25, 6: 36, 7: 49, 8: 64, 9: 81}\n"
          ]
        }
      ]
    },
    {
      "cell_type": "code",
      "source": [
        "#Bai40\n",
        "# Tuple cho trước\n",
        "tuple_so = (1, 2, 3, 4, 5, 6, 7, 8, 9, 10)\n",
        "\n",
        "# Tính chỉ số chia đôi tuple\n",
        "midpoint = len(tuple_so) // 2\n",
        "\n",
        "# In nửa đầu tiên của tuple\n",
        "print(\"Nửa đầu tiên của tuple:\", tuple_so[:midpoint])\n",
        "\n",
        "# In nửa còn lại của tuple\n",
        "print(\"Nửa còn lại của tuple:\", tuple_so[midpoint:])\n"
      ],
      "metadata": {
        "colab": {
          "base_uri": "https://localhost:8080/"
        },
        "id": "uAxIxDGT-jQG",
        "outputId": "7d9a7bdf-735e-4c3d-ad15-3f59b292264d"
      },
      "execution_count": null,
      "outputs": [
        {
          "output_type": "stream",
          "name": "stdout",
          "text": [
            "Nửa đầu tiên của tuple: (1, 2, 3, 4, 5)\n",
            "Nửa còn lại của tuple: (6, 7, 8, 9, 10)\n"
          ]
        }
      ]
    },
    {
      "cell_type": "code",
      "source": [
        "#Bai41\n",
        "# Tuple cho trước\n",
        "tuple_so = (1, 2, 3, 4, 5, 6, 7, 8, 9, 10)\n",
        "\n",
        "# Tạo tuple mới chỉ chứa các số chẵn\n",
        "tuple_so_chan = tuple(so for so in tuple_so if so % 2 == 0)\n",
        "\n",
        "# In ra tuple mới chứa các số chẵn\n",
        "print(\"Tuple chứa các số chẵn:\", tuple_so_chan)\n"
      ],
      "metadata": {
        "colab": {
          "base_uri": "https://localhost:8080/"
        },
        "id": "STXpupSA-_j_",
        "outputId": "0104b057-6a87-4738-eb58-0cab65f05731"
      },
      "execution_count": null,
      "outputs": [
        {
          "output_type": "stream",
          "name": "stdout",
          "text": [
            "Tuple chứa các số chẵn: (2, 4, 6, 8, 10)\n"
          ]
        }
      ]
    },
    {
      "cell_type": "code",
      "source": [
        "#Bai42\n",
        "# Định nghĩa hàm tính giai thừa\n",
        "def tinh_giai_thua(n):\n",
        "    if n == 0 or n == 1:\n",
        "        return 1\n",
        "    else:\n",
        "        return n * tinh_giai_thua(n - 1)\n",
        "\n",
        "# Nhập số từ người dùng\n",
        "try:\n",
        "    n = int(input(\"Nhập một số nguyên để tính giai thừa: \"))\n",
        "\n",
        "    if n >= 0:\n",
        "        ket_qua = tinh_giai_thua(n)\n",
        "        print(f\"Giai thừa của {n} là: {ket_qua:,}\")  # In kết quả, phân tách bởi dấu phẩy\n",
        "    else:\n",
        "        print(\"Vui lòng nhập một số nguyên không âm.\")\n",
        "except ValueError:\n",
        "    print(\"Vui lòng nhập một số nguyên hợp lệ.\")\n"
      ],
      "metadata": {
        "colab": {
          "base_uri": "https://localhost:8080/"
        },
        "id": "Gzk68OO3_GhC",
        "outputId": "b6c10d82-3657-4586-d1d2-74bee708b986"
      },
      "execution_count": null,
      "outputs": [
        {
          "output_type": "stream",
          "name": "stdout",
          "text": [
            "Nhập một số nguyên để tính giai thừa: 8\n",
            "Giai thừa của 8 là: 40,320\n"
          ]
        }
      ]
    },
    {
      "cell_type": "code",
      "source": [
        "#Bai43\n",
        "# Định nghĩa hàm so sánh độ dài 2 chuỗi\n",
        "def in_chuoi_dai_hon(chuoi1, chuoi2):\n",
        "    # Lấy chiều dài của chuỗi\n",
        "    do_dai1 = len(chuoi1)\n",
        "    do_dai2 = len(chuoi2)\n",
        "\n",
        "    # So sánh độ dài của hai chuỗi\n",
        "    if do_dai1 > do_dai2:\n",
        "        print(\"Chuỗi có độ dài lớn hơn là:\", chuoi1)\n",
        "    elif do_dai2 > do_dai1:\n",
        "        print(\"Chuỗi có độ dài lớn hơn là:\", chuoi2)\n",
        "    else:\n",
        "        print(\"Hai chuỗi có độ dài bằng nhau:\")\n",
        "        print(chuoi1)\n",
        "        print(chuoi2)\n",
        "\n",
        "# Nhập hai chuỗi từ người dùng\n",
        "chuoi1 = input(\"Nhập chuỗi thứ nhất: \")\n",
        "chuoi2 = input(\"Nhập chuỗi thứ hai: \")\n",
        "\n",
        "# Gọi hàm để in chuỗi có độ dài lớn hơn\n",
        "in_chuoi_dai_hon(chuoi1, chuoi2)\n"
      ],
      "metadata": {
        "colab": {
          "base_uri": "https://localhost:8080/"
        },
        "id": "6tRkC-MJ_8jO",
        "outputId": "de3db117-9491-48b3-b1ef-5d5f28b714ef"
      },
      "execution_count": null,
      "outputs": [
        {
          "output_type": "stream",
          "name": "stdout",
          "text": [
            "Nhập chuỗi thứ nhất: nguyen khac duy\n",
            "Nhập chuỗi thứ hai: le hoang yen\n",
            "Chuỗi có độ dài lớn hơn là: nguyen khac duy\n"
          ]
        }
      ]
    },
    {
      "cell_type": "code",
      "source": [
        "#Bai44\n",
        "# Định nghĩa hàm tạo danh sách các giá trị bình phương\n",
        "def tao_danh_sach_binh_phuong():\n",
        "    danh_sach_binh_phuong = []  # Tạo danh sách rỗng để lưu các giá trị bình phương\n",
        "    for i in range(1, 21):  # Vòng lặp qua các số từ 1 đến 20\n",
        "        danh_sach_binh_phuong.append(i ** 2)  # Thêm bình phương của i vào danh sách\n",
        "    print(\"Danh sách các giá trị bình phương từ 1 đến 20:\", danh_sach_binh_phuong)\n",
        "\n",
        "# Gọi hàm để tạo và in danh sách\n",
        "tao_danh_sach_binh_phuong()\n"
      ],
      "metadata": {
        "colab": {
          "base_uri": "https://localhost:8080/"
        },
        "id": "pzgYpFcBAKZ7",
        "outputId": "9f5d0b5f-2076-4078-c5d3-3f78abb0458b"
      },
      "execution_count": null,
      "outputs": [
        {
          "output_type": "stream",
          "name": "stdout",
          "text": [
            "Danh sách các giá trị bình phương từ 1 đến 20: [1, 4, 9, 16, 25, 36, 49, 64, 81, 100, 121, 144, 169, 196, 225, 256, 289, 324, 361, 400]\n"
          ]
        }
      ]
    },
    {
      "cell_type": "code",
      "source": [
        "#Bai45\n",
        "# Định nghĩa hàm tạo danh sách các giá trị bình phương và in 5 phần tử đầu tiên\n",
        "def tao_danh_sach_binh_phuong():\n",
        "    danh_sach_binh_phuong = []  # Tạo danh sách rỗng để lưu các giá trị bình phương\n",
        "    for i in range(1, 21):  # Vòng lặp qua các số từ 1 đến 20\n",
        "        danh_sach_binh_phuong.append(i ** 2)  # Thêm bình phương của i vào danh sách\n",
        "\n",
        "    # In ra 5 phần tử đầu tiên của danh sách\n",
        "    print(\"5 phần tử đầu tiên trong danh sách bình phương:\", danh_sach_binh_phuong[:5])\n",
        "\n",
        "# Gọi hàm để tạo danh sách và in 5 phần tử đầu tiên\n",
        "tao_danh_sach_binh_phuong()\n"
      ],
      "metadata": {
        "colab": {
          "base_uri": "https://localhost:8080/"
        },
        "id": "rmXdGI7IAQPm",
        "outputId": "61b2dc3e-5f42-4613-878e-780a30e28448"
      },
      "execution_count": null,
      "outputs": [
        {
          "output_type": "stream",
          "name": "stdout",
          "text": [
            "5 phần tử đầu tiên trong danh sách bình phương: [1, 4, 9, 16, 25]\n"
          ]
        }
      ]
    },
    {
      "cell_type": "code",
      "source": [
        "#Bai46\n",
        "# Định nghĩa hàm tạo danh sách các giá trị bình phương và in 5 phần tử cuối cùng\n",
        "def tao_danh_sach_binh_phuong():\n",
        "    danh_sach_binh_phuong = []  # Tạo danh sách rỗng để lưu các giá trị bình phương\n",
        "    for i in range(1, 21):  # Vòng lặp qua các số từ 1 đến 20\n",
        "        danh_sach_binh_phuong.append(i ** 2)  # Thêm bình phương của i vào danh sách\n",
        "\n",
        "    # In ra 5 phần tử cuối cùng của danh sách\n",
        "    print(\"5 phần tử cuối cùng trong danh sách bình phương:\", danh_sach_binh_phuong[-5:])\n",
        "\n",
        "# Gọi hàm để tạo danh sách và in 5 phần tử cuối cùng\n",
        "tao_danh_sach_binh_phuong()\n"
      ],
      "metadata": {
        "colab": {
          "base_uri": "https://localhost:8080/"
        },
        "id": "ElMp6RzDAm4C",
        "outputId": "aaa6d46c-01b0-4908-917d-ea81aac9bace"
      },
      "execution_count": null,
      "outputs": [
        {
          "output_type": "stream",
          "name": "stdout",
          "text": [
            "5 phần tử cuối cùng trong danh sách bình phương: [256, 289, 324, 361, 400]\n"
          ]
        }
      ]
    },
    {
      "cell_type": "code",
      "source": [
        "#Bai47\n",
        "def tao_danh_sach_binh_phuong():\n",
        "    danh_sach_binh_phuong = [i ** 2 for i in range(1, 21)]  # Tạo danh sách bình phương từ 1 đến 20\n",
        "    # In tất cả các giá trị trừ 5 phần tử đầu tiên\n",
        "    print(\"Danh sách trừ 5 phần tử đầu tiên:\", danh_sach_binh_phuong[5:])\n",
        "\n",
        "# Gọi hàm để thực hiện\n",
        "tao_danh_sach_binh_phuong()\n"
      ],
      "metadata": {
        "colab": {
          "base_uri": "https://localhost:8080/"
        },
        "id": "qdBNKT3cA7J0",
        "outputId": "af880ac6-bd96-42c4-fbbe-1bfe45ff98bb"
      },
      "execution_count": null,
      "outputs": [
        {
          "output_type": "stream",
          "name": "stdout",
          "text": [
            "Danh sách trừ 5 phần tử đầu tiên: [36, 49, 64, 81, 100, 121, 144, 169, 196, 225, 256, 289, 324, 361, 400]\n"
          ]
        }
      ]
    },
    {
      "cell_type": "code",
      "source": [
        "#Bai48\n",
        "def tinh_trung_binh(a, b, c):\n",
        "    return (a + b + c) / 3\n",
        "\n",
        "# Nhập ba giá trị từ người dùng\n",
        "try:\n",
        "    a = float(input(\"Nhập giá trị thứ nhất: \"))\n",
        "    b = float(input(\"Nhập giá trị thứ hai: \"))\n",
        "    c = float(input(\"Nhập giá trị thứ ba: \"))\n",
        "\n",
        "    # Tính và in giá trị trung bình\n",
        "    trung_binh = tinh_trung_binh(a, b, c)\n",
        "    print(\"Giá trị trung bình của ba số là:\", trung_binh)\n",
        "except ValueError:\n",
        "    print(\"Vui lòng nhập các giá trị số hợp lệ.\")\n"
      ],
      "metadata": {
        "colab": {
          "base_uri": "https://localhost:8080/"
        },
        "id": "TTZE72pFA8zq",
        "outputId": "dcc497b5-a141-45b6-8846-fef64800e1e6"
      },
      "execution_count": null,
      "outputs": [
        {
          "output_type": "stream",
          "name": "stdout",
          "text": [
            "Nhập giá trị thứ nhất: 5\n",
            "Nhập giá trị thứ hai: 6\n",
            "Nhập giá trị thứ ba: 1\n",
            "Giá trị trung bình của ba số là: 4.0\n"
          ]
        }
      ]
    },
    {
      "cell_type": "code",
      "source": [
        "#Bai49\n",
        "def la_so_nguyen_to(n):\n",
        "    if n <= 1:\n",
        "        return False\n",
        "    for i in range(2, int(n ** 0.5) + 1):\n",
        "        if n % i == 0:\n",
        "            return False\n",
        "    return True\n",
        "\n",
        "# Nhập số từ người dùng và kiểm tra\n",
        "try:\n",
        "    n = int(input(\"Nhập một số nguyên: \"))\n",
        "    if la_so_nguyen_to(n):\n",
        "        print(f\"{n} là số nguyên tố.\")\n",
        "    else:\n",
        "        print(f\"{n} không phải là số nguyên tố.\")\n",
        "except ValueError:\n",
        "    print(\"Vui lòng nhập một số nguyên hợp lệ.\")\n"
      ],
      "metadata": {
        "colab": {
          "base_uri": "https://localhost:8080/"
        },
        "id": "ICYTDGy-A-Jt",
        "outputId": "5bcdd85c-0fc5-4995-fc7e-4029ad2908ef"
      },
      "execution_count": null,
      "outputs": [
        {
          "output_type": "stream",
          "name": "stdout",
          "text": [
            "Nhập một số nguyên: 5\n",
            "5 là số nguyên tố.\n"
          ]
        }
      ]
    },
    {
      "cell_type": "code",
      "source": [
        "#Bai50\n",
        "import random\n",
        "import string\n",
        "\n",
        "def tao_mat_khau_ngau_nhien():\n",
        "    # Độ dài ngẫu nhiên từ 7 đến 10 ký tự\n",
        "    do_dai = random.randint(7, 10)\n",
        "\n",
        "    # Tạo mật khẩu với các ký tự từ bảng ASCII 33 đến 126\n",
        "    mat_khau = ''.join(chr(random.randint(33, 126)) for _ in range(do_dai))\n",
        "\n",
        "    return mat_khau\n",
        "\n",
        "# Tạo và hiển thị mật khẩu ngẫu nhiên\n",
        "mat_khau = tao_mat_khau_ngau_nhien()\n",
        "print(\"Mật khẩu ngẫu nhiên được tạo là:\", mat_khau)\n"
      ],
      "metadata": {
        "colab": {
          "base_uri": "https://localhost:8080/"
        },
        "id": "A94clhKqBVEI",
        "outputId": "6a9ad1c9-c71c-42bd-daff-e7a1a18c1b22"
      },
      "execution_count": null,
      "outputs": [
        {
          "output_type": "stream",
          "name": "stdout",
          "text": [
            "Mật khẩu ngẫu nhiên được tạo là: Td[EMVzZC\n"
          ]
        }
      ]
    },
    {
      "cell_type": "code",
      "source": [
        "#Bai51\n",
        "import re\n",
        "\n",
        "def la_mat_khau_tot(password):\n",
        "    # Kiểm tra độ dài mật khẩu\n",
        "    if len(password) < 8:\n",
        "        return False\n",
        "\n",
        "    # Kiểm tra sự xuất hiện của ít nhất một chữ cái viết hoa\n",
        "    if not re.search(r'[A-Z]', password):\n",
        "        return False\n",
        "\n",
        "    # Kiểm tra sự xuất hiện của ít nhất một chữ cái viết thường\n",
        "    if not re.search(r'[a-z]', password):\n",
        "        return False\n",
        "\n",
        "    # Kiểm tra sự xuất hiện của ít nhất một số\n",
        "    if not re.search(r'\\d', password):\n",
        "        return False\n",
        "\n",
        "    return True\n",
        "\n",
        "# Nhập mật khẩu từ người dùng và kiểm tra\n",
        "password = input(\"Nhập mật khẩu: \")\n",
        "if la_mat_khau_tot(password):\n",
        "    print(\"Mật khẩu tốt.\")\n",
        "else:\n",
        "    print(\"Mật khẩu không tốt.\")\n"
      ],
      "metadata": {
        "colab": {
          "base_uri": "https://localhost:8080/"
        },
        "id": "BDuOEYdMBWNl",
        "outputId": "f1e156a9-6edc-413b-d35b-c357320820bc"
      },
      "execution_count": null,
      "outputs": [
        {
          "output_type": "stream",
          "name": "stdout",
          "text": [
            "Nhập mật khẩu: 123456789A\n",
            "Mật khẩu không tốt.\n"
          ]
        }
      ]
    },
    {
      "cell_type": "code",
      "source": [
        "#Bai52\n",
        "def la_so_hoan_hao(n):\n",
        "    if n < 2:\n",
        "        return False\n",
        "\n",
        "    tong_uoc_so = 1  # 1 là ước số của mọi số nguyên dương\n",
        "    for i in range(2, int(n ** 0.5) + 1):\n",
        "        if n % i == 0:\n",
        "            tong_uoc_so += i\n",
        "            if i != n // i:\n",
        "                tong_uoc_so += n // i\n",
        "\n",
        "    return tong_uoc_so == n\n",
        "\n",
        "# Tìm tất cả các số hoàn hảo trong khoảng từ 1 đến 10.000\n",
        "for i in range(1, 10001):\n",
        "    if la_so_hoan_hao(i):\n",
        "        print(f\"{i} là số hoàn hảo.\")\n"
      ],
      "metadata": {
        "colab": {
          "base_uri": "https://localhost:8080/"
        },
        "id": "fgHpah9EBXnu",
        "outputId": "4d57dc7f-35c7-46e5-b90c-799e39a38c2c"
      },
      "execution_count": null,
      "outputs": [
        {
          "output_type": "stream",
          "name": "stdout",
          "text": [
            "6 là số hoàn hảo.\n",
            "28 là số hoàn hảo.\n",
            "496 là số hoàn hảo.\n",
            "8128 là số hoàn hảo.\n"
          ]
        }
      ]
    },
    {
      "cell_type": "code",
      "source": [
        "#Bai53\n",
        "def danh_sach_tat_ca_con(lst):\n",
        "    # Danh sách để chứa tất cả các danh sách con\n",
        "    ket_qua = [[]]\n",
        "\n",
        "    # Duyệt qua tất cả các phần tử trong danh sách gốc\n",
        "    for item in lst:\n",
        "        # Tạo các danh sách con mới từ các danh sách con hiện tại và thêm phần tử hiện tại vào chúng\n",
        "        ket_qua += [sublist + [item] for sublist in ket_qua]\n",
        "\n",
        "    return ket_qua\n",
        "\n",
        "# Ví dụ danh sách\n",
        "danh_sach = [1, 2, 3]\n",
        "\n",
        "# Tạo và in tất cả các danh sách con\n",
        "tat_ca_con = danh_sach_tat_ca_con(danh_sach)\n",
        "print(\"Tất cả các danh sách con của\", danh_sach, \"là:\", tat_ca_con)\n"
      ],
      "metadata": {
        "colab": {
          "base_uri": "https://localhost:8080/"
        },
        "id": "W5kzVxFUBbPE",
        "outputId": "f44e982b-e1f9-40d9-f8fd-8d5ddae50327"
      },
      "execution_count": null,
      "outputs": [
        {
          "output_type": "stream",
          "name": "stdout",
          "text": [
            "Tất cả các danh sách con của [1, 2, 3] là: [[], [1], [2], [1, 2], [3], [1, 3], [2, 3], [1, 2, 3]]\n"
          ]
        }
      ]
    },
    {
      "cell_type": "code",
      "source": [
        "#Bai54\n",
        "def dinh_dang_danh_sach(words):\n",
        "    # Xử lý trường hợp danh sách rỗng\n",
        "    if not words:\n",
        "        return \"\"\n",
        "\n",
        "    # Xử lý trường hợp danh sách chỉ có một từ\n",
        "    if len(words) == 1:\n",
        "        return words[0]\n",
        "\n",
        "    # Xử lý danh sách có nhiều hơn một từ\n",
        "    return ', '.join(words[:-1]) + ' and ' + words[-1]\n",
        "\n",
        "# Nhập danh sách các từ từ người dùng\n",
        "input_str = input(\"Nhập danh sách các từ (cách nhau bởi dấu phẩy): \")\n",
        "words = [word.strip() for word in input_str.split(',')]\n",
        "\n",
        "# Định dạng và in kết quả\n",
        "ket_qua = dinh_dang_danh_sach(words)\n",
        "print(\"Danh sách các từ được định dạng:\", ket_qua)\n"
      ],
      "metadata": {
        "colab": {
          "base_uri": "https://localhost:8080/"
        },
        "id": "riNLLKGaBUv9",
        "outputId": "839a7ff5-1182-4a3a-8d08-869bf41933a1"
      },
      "execution_count": null,
      "outputs": [
        {
          "output_type": "stream",
          "name": "stdout",
          "text": [
            "Nhập danh sách các từ (cách nhau bởi dấu phẩy): anh, la, mot, con, thu\n",
            "Danh sách các từ được định dạng: anh, la, mot, con and thu\n"
          ]
        }
      ]
    },
    {
      "cell_type": "code",
      "source": [
        "#Bai55\n",
        "import os\n",
        "\n",
        "# Tạo tệp mẫu\n",
        "filename = 'example.txt'\n",
        "with open(filename, 'w') as file:\n",
        "    file.write(\"Đây là nội dung của tệp mẫu.\")\n",
        "\n",
        "# Tên tệp nén\n",
        "zip_filename = 'example.zip'\n",
        "\n",
        "# Nén tệp\n",
        "os.system(f'zip {zip_filename} {filename}')\n",
        "print(f\"Tệp '{filename}' đã được nén thành '{zip_filename}'\")\n",
        "\n",
        "# Thư mục để giải nén tệp\n",
        "unzip_dir = '/content/unzipped_files'\n",
        "os.makedirs(unzip_dir, exist_ok=True)\n",
        "\n",
        "# Giải nén tệp\n",
        "os.system(f'unzip {zip_filename} -d {unzip_dir}')\n",
        "print(f\"Tệp '{zip_filename}' đã được giải nén vào thư mục '{unzip_dir}'\")\n",
        "\n",
        "# Kiểm tra nội dung của thư mục giải nén\n",
        "print(\"Nội dung của thư mục giải nén:\")\n",
        "for root, dirs, files in os.walk(unzip_dir):\n",
        "    for file in files:\n",
        "        print(file)\n"
      ],
      "metadata": {
        "colab": {
          "base_uri": "https://localhost:8080/"
        },
        "id": "jRGc2sZECRW4",
        "outputId": "db597697-1204-4c2b-c390-210ee590edd3"
      },
      "execution_count": null,
      "outputs": [
        {
          "output_type": "stream",
          "name": "stdout",
          "text": [
            "Tệp 'example.txt' đã được nén thành 'example.zip'\n",
            "Tệp 'example.zip' đã được giải nén vào thư mục '/content/unzipped_files'\n",
            "Nội dung của thư mục giải nén:\n",
            "example.txt\n"
          ]
        }
      ]
    }
  ]
}