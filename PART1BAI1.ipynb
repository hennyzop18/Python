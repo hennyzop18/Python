{
  "nbformat": 4,
  "nbformat_minor": 0,
  "metadata": {
    "colab": {
      "provenance": [],
      "authorship_tag": "ABX9TyPC+WGonLTzYD5+/1oBYpXd",
      "include_colab_link": true
    },
    "kernelspec": {
      "name": "python3",
      "display_name": "Python 3"
    },
    "language_info": {
      "name": "python"
    }
  },
  "cells": [
    {
      "cell_type": "markdown",
      "metadata": {
        "id": "view-in-github",
        "colab_type": "text"
      },
      "source": [
        "<a href=\"https://colab.research.google.com/github/hennyzop18/Python/blob/main/PART1BAI1.ipynb\" target=\"_parent\"><img src=\"https://colab.research.google.com/assets/colab-badge.svg\" alt=\"Open In Colab\"/></a>"
      ]
    },
    {
      "cell_type": "code",
      "execution_count": null,
      "metadata": {
        "id": "CsMRdQo4KPkr",
        "colab": {
          "base_uri": "https://localhost:8080/"
        },
        "outputId": "12f4f6b4-2312-4ebd-afec-3416fd847ff2"
      },
      "outputs": [
        {
          "output_type": "stream",
          "name": "stdout",
          "text": [
            "Enter your string:le hoàng yén\n",
            "A Upper String is: LE HOÀNG YÉN\n",
            "A Lower String is : le hoàng yén\n",
            "A Title String is : Le Hoàng Yén\n"
          ]
        }
      ],
      "source": [
        "#Bài 1\n",
        "st = input('Enter your string:')\n",
        "st_upper = st.upper()\n",
        "st_lower = st.lower()\n",
        "st_title = st.title()\n",
        "print(\"A Upper String is: \" + st_upper)\n",
        "print(\"A Lower String is : \" + st_lower)\n",
        "print(\"A Title String is : \" + st_title)"
      ]
    },
    {
      "cell_type": "code",
      "source": [
        "#Bài 2\n",
        "data = 'minhnhutvh@gmail.com'\n",
        "position = data.find('@')\n",
        "host = data[ position +1 :]\n",
        "print(host)"
      ],
      "metadata": {
        "id": "ESerri3EKWxC",
        "colab": {
          "base_uri": "https://localhost:8080/"
        },
        "outputId": "fcbccd77-0201-46f3-a338-1a92d7d8ab34"
      },
      "execution_count": null,
      "outputs": [
        {
          "output_type": "stream",
          "name": "stdout",
          "text": [
            "gmail.com\n"
          ]
        }
      ]
    },
    {
      "cell_type": "code",
      "source": [
        "#Bài 3\n",
        "data = 'minhnhutvh@gmail.com Sat Jan 5 09:14:16'\n",
        "Start_position = data.find('@')\n",
        "End_position = data.find(' ', Start_position)\n",
        "host = data[Start_position +1 : End_position]\n",
        "print(host)"
      ],
      "metadata": {
        "colab": {
          "base_uri": "https://localhost:8080/"
        },
        "id": "twdeGiZGQ3wY",
        "outputId": "92e31fbd-96fc-40ba-fea3-272f3c883d6c"
      },
      "execution_count": null,
      "outputs": [
        {
          "output_type": "stream",
          "name": "stdout",
          "text": [
            "gmail.com\n"
          ]
        }
      ]
    },
    {
      "cell_type": "code",
      "source": [
        "#Bài 4\n",
        "st1 = input(\"Enter your string: \")\n",
        "st2 = input(\" Enter the word that needs to replace: \")\n",
        "st3 = input(\" Enter the word after being replaced: \")\n",
        "st1 = st1.replace(st2,st3)\n",
        "print(st1)"
      ],
      "metadata": {
        "colab": {
          "base_uri": "https://localhost:8080/"
        },
        "id": "GPYInuRyigHe",
        "outputId": "22069df8-a056-445a-d100-74da4834e53c"
      },
      "execution_count": null,
      "outputs": [
        {
          "output_type": "stream",
          "name": "stdout",
          "text": [
            "Enter your string: nothing\n",
            " Enter the word that needs to replace: thing\n",
            " Enter the word after being replaced: koooo\n",
            "nokoooo\n"
          ]
        }
      ]
    },
    {
      "cell_type": "code",
      "source": [
        "#Bài 5\n",
        "st = input('Enter your string: ')\n",
        "First_five_characters = st[:5]\n",
        "Last_five_characters = st[len(st)-5:]\n",
        "Str_1_line = 4 * (st + \" \")\n",
        "Str_4_line = 4 * (st + \"\\n\")\n",
        "print(\"First five characters are: \" + First_five_characters)\n",
        "print(\"Last five characters are: \" + Last_five_characters)\n",
        "print(\"Four strings of one line are: \" + Str_1_line)\n",
        "print(\"Four strings of four line are: \\n\" + Str_4_line)"
      ],
      "metadata": {
        "colab": {
          "base_uri": "https://localhost:8080/"
        },
        "id": "1f4Ddcu9r3ow",
        "outputId": "b36c111a-ff23-4b47-b4d8-d6a5dead0aa4"
      },
      "execution_count": null,
      "outputs": [
        {
          "output_type": "stream",
          "name": "stdout",
          "text": [
            "Enter your string: viet nam\n",
            "First five characters are: viet \n",
            "Last five characters are: t nam\n",
            "Four strings of one line are: viet nam viet nam viet nam viet nam \n",
            "Four strings of four line are: \n",
            "viet nam\n",
            "viet nam\n",
            "viet nam\n",
            "viet nam\n",
            "\n"
          ]
        }
      ]
    },
    {
      "cell_type": "code",
      "source": [
        "#Bài 6\n",
        "from math import *\n",
        "r = input('Nhập bán kính: ')\n",
        "h = input('Nhập chiều cao: ')\n",
        "r = float(r)\n",
        "h = float(h)\n",
        "V = pi * r * r * h\n",
        "print('Thể tích hình trụ là: ' + str(V))\n"
      ],
      "metadata": {
        "colab": {
          "base_uri": "https://localhost:8080/"
        },
        "id": "jPnxs1sKsV-P",
        "outputId": "4f74f00b-6579-4201-b72d-9415d9bbdcbb"
      },
      "execution_count": null,
      "outputs": [
        {
          "output_type": "stream",
          "name": "stdout",
          "text": [
            "Nhập bán kính: 8\n",
            "Nhập chiều cao: 9\n",
            "Thể tích hình trụ là: 1809.5573684677208\n"
          ]
        }
      ]
    },
    {
      "cell_type": "code",
      "source": [
        "#Bài 7\n",
        "from math import *\n",
        "\n",
        "# Nhập độ dài 3 cạnh\n",
        "a = float(input(\"Nhập cạnh a: \"))\n",
        "b = float(input(\"Nhập cạnh b: \"))\n",
        "c = float(input(\"Nhập cạnh c: \"))\n",
        "\n",
        "# Nhập các góc (radian)\n",
        "A = float(input(\"Nhập góc A (radian): \"))\n",
        "B = float(input(\"Nhập góc B (radian): \"))\n",
        "C = float(input(\"Nhập góc C (radian): \"))\n",
        "\n",
        "# Tính diện tích theo 3 cách\n",
        "S1 = 0.5 * a * b * sin(C)\n",
        "S2 = 0.5 * a * c * sin(B)\n",
        "S3 = 0.5 * b * c * sin(A)\n",
        "\n",
        "# In kết quả\n",
        "print(\"Diện tích tam giác (theo công thức 1):\", S1)\n",
        "print(\"Diện tích tam giác (theo công thức 2):\", S2)\n",
        "print(\"Diện tích tam giác (theo công thức 3):\", S3)"
      ],
      "metadata": {
        "colab": {
          "base_uri": "https://localhost:8080/"
        },
        "id": "IRZXH8cptfMe",
        "outputId": "0061be32-8303-4704-e3f9-cddf5d3ff8c5"
      },
      "execution_count": null,
      "outputs": [
        {
          "output_type": "stream",
          "name": "stdout",
          "text": [
            "Nhập cạnh a: 5\n",
            "Nhập cạnh b: 7\n",
            "Nhập cạnh c: 8\n",
            "Nhập góc A (radian): 0.5236\n",
            "Nhập góc B (radian): 0.7854\n",
            "Nhập góc C (radian): 1.0472\n",
            "Diện tích tam giác (theo công thức 1): 15.155465993212005\n",
            "Diện tích tam giác (theo công thức 2): 14.142161597189471\n",
            "Diện tích tam giác (theo công thức 3): 14.000029690152878\n"
          ]
        }
      ]
    },
    {
      "cell_type": "code",
      "source": [
        "#Bài 8\n",
        "from math import *\n",
        "a = float(input('Nhập a: '))\n",
        "\n",
        "S=a*a*sqrt(3)/4\n",
        "print('Diện tích của tam giác đều là: ',S)\n"
      ],
      "metadata": {
        "colab": {
          "base_uri": "https://localhost:8080/"
        },
        "id": "EUl26-_UVlZo",
        "outputId": "23ee1187-5b18-4ab5-ae1a-59226e5eff26"
      },
      "execution_count": null,
      "outputs": [
        {
          "output_type": "stream",
          "name": "stdout",
          "text": [
            "Nhập a: 5\n",
            "Diện tích của tam giác đều là:  10.825317547305483\n"
          ]
        }
      ]
    },
    {
      "cell_type": "code",
      "source": [
        "#Bài 9\n",
        "from math import *\n",
        "\n",
        "# Nhập độ dài 3 cạnh\n",
        "a = float(input(\"Nhập cạnh a: \"))\n",
        "b = float(input(\"Nhập cạnh b: \"))\n",
        "c = float(input(\"Nhập cạnh c: \"))\n",
        "\n",
        "# Nhập các góc (radian)\n",
        "A = float(input(\"Nhập góc A (radian): \"))\n",
        "B = float(input(\"Nhập góc B (radian): \"))\n",
        "C = float(input(\"Nhập góc C (radian): \"))\n",
        "\n",
        "# Tính diện tích theo 3 cách\n",
        "S1 = 0.5 * a * b * sin(C)\n",
        "S2 = 0.5 * a * c * sin(B)\n",
        "S3 = 0.5 * b * c * sin(A)\n",
        "\n",
        "# In kết quả\n",
        "print(\"Diện tích tam giác (theo công thức 1):\", S1)\n",
        "print(\"Diện tích tam giác (theo công thức 2):\", S2)\n",
        "print(\"Diện tích tam giác (theo công thức 3):\", S3)"
      ],
      "metadata": {
        "id": "8dL74Di9WBpM",
        "colab": {
          "base_uri": "https://localhost:8080/"
        },
        "outputId": "80d96c16-27c1-4fab-bd17-5d5f0cfcf38e"
      },
      "execution_count": null,
      "outputs": [
        {
          "output_type": "stream",
          "name": "stdout",
          "text": [
            "Nhập cạnh a: 5\n",
            "Nhập cạnh b: 5\n",
            "Nhập cạnh c: 5\n",
            "Nhập góc A (radian): 1.045\n",
            "Nhập góc B (radian): 1.045\n",
            "Nhập góc C (radian): 1.045\n",
            "Diện tích tam giác (theo công thức 1): 10.811556724410973\n",
            "Diện tích tam giác (theo công thức 2): 10.811556724410973\n",
            "Diện tích tam giác (theo công thức 3): 10.811556724410973\n"
          ]
        }
      ]
    },
    {
      "cell_type": "code",
      "source": [
        "#Bài 10\n",
        "chieu_rong = float(input(\"Nhập chiều rộng của căn phòng (m): \"))\n",
        "chieu_dai = float(input(\"Nhập chiều dài của căn phòng (m): \"))\n",
        "\n",
        "print(f\"Chiều rộng của căn phòng là: {chieu_rong:.2f} m\")\n",
        "print(f\"Chiều dài của căn phòng là: {chieu_dai:.2f} m\")\n",
        "\n",
        "dien_tich = chieu_rong * chieu_dai\n",
        "\n",
        "print(f\"Diện tích căn phòng là: {dien_tich:.2f} m²\")"
      ],
      "metadata": {
        "colab": {
          "base_uri": "https://localhost:8080/"
        },
        "id": "P2lA70-EWXv6",
        "outputId": "58f7fcff-0c24-46cd-faea-440a724db2bf"
      },
      "execution_count": null,
      "outputs": [
        {
          "output_type": "stream",
          "name": "stdout",
          "text": [
            "Nhập chiều rộng của căn phòng (m): 25.36\n",
            "Nhập chiều dài của căn phòng (m): 26.34\n",
            "Chiều rộng của căn phòng là: 25.36 m\n",
            "Chiều dài của căn phòng là: 26.34 m\n",
            "Diện tích căn phòng là: 667.98 m²\n"
          ]
        }
      ]
    },
    {
      "cell_type": "code",
      "source": [
        "#Bài 11\n",
        "rong = float(input(\"Nhập chiều rộng của cánh đồng (m): \"))\n",
        "dai = float(input(\"Nhập chiều dài của cánh đồng (m): \"))\n",
        "\n",
        "S_canphong = rong * dai\n",
        "S = S_canphong / 43.560\n",
        "print(f\"Diện tích cánh đồng theo đơn vị Mẫu Anh là: {S:.2f} (Mẫu Anh)\")\n"
      ],
      "metadata": {
        "colab": {
          "base_uri": "https://localhost:8080/"
        },
        "id": "fhbNEusJXmY3",
        "outputId": "4a5b63fd-e03b-4878-edbd-0381bdd97d3f"
      },
      "execution_count": null,
      "outputs": [
        {
          "output_type": "stream",
          "name": "stdout",
          "text": [
            "Nhập chiều rộng của cánh đồng (m): 657\n",
            "Nhập chiều dài của cánh đồng (m): 67\n",
            "Diện tích cánh đồng theo đơn vị Mẫu Anh là: 1010.54 (Mẫu Anh)\n"
          ]
        }
      ]
    },
    {
      "cell_type": "code",
      "source": [
        "#Bài 12\n",
        "from math import *\n",
        "cost = float(input('Nhập chi phí bữa ăn: '))\n",
        "sum = cost + cost * 0.18 + cost * 0.05\n",
        "print(f'Tổng chi phí là:  {sum:.2f} đồng')"
      ],
      "metadata": {
        "colab": {
          "base_uri": "https://localhost:8080/"
        },
        "id": "U9TqavGmYjA7",
        "outputId": "797e3f6e-cad0-46ad-8457-edfb7cbb8eca"
      },
      "execution_count": null,
      "outputs": [
        {
          "output_type": "stream",
          "name": "stdout",
          "text": [
            "Nhập chi phí bữa ăn: 1503600.69\n",
            "Tổng chi phí là:  1849428.85 đồng\n"
          ]
        }
      ]
    },
    {
      "cell_type": "code",
      "source": [
        "#Bài 13\n",
        "from math import *\n",
        "n = int(input('Nhập n: '))\n",
        "sum = n * (n + 1) / 2\n",
        "print(f'Tổng là: {sum}' )\n"
      ],
      "metadata": {
        "colab": {
          "base_uri": "https://localhost:8080/"
        },
        "id": "6qCsIPQsXNHF",
        "outputId": "29b936bc-7279-4aa0-a072-1c1921ca445d"
      },
      "execution_count": null,
      "outputs": [
        {
          "output_type": "stream",
          "name": "stdout",
          "text": [
            "Nhập n: 30\n",
            "Tổng là: 465.0\n"
          ]
        }
      ]
    },
    {
      "cell_type": "code",
      "source": [
        "#Bài 14\n",
        "from math import *\n",
        "a = int(input('Nhập số a: '))\n",
        "b = int(input('Nhập số b: '))\n",
        "tong = a + b\n",
        "hieu = a - b\n",
        "tich = a * b\n",
        "if b != 0:\n",
        "    thuong = a / b\n",
        "    phan_conlai = a % b\n",
        "else:\n",
        "    thuong = \"Không xác định( b khác 0)\"\n",
        "    phan_conlai = \"Không xác định( b khác 0)\"\n",
        "\n",
        "if a > 0:\n",
        "    logarit  = log10(a)\n",
        "else:\n",
        "    logarit = \"Không xác định (a > 0)\"\n",
        "luy_thua = a ** b\n",
        "\n",
        "print(f'Tổng là: {tong}')\n",
        "print(f'Hiệu là: {hieu}')\n",
        "print(f'Tích là: {tich}')\n",
        "print(f'Thương là: {thuong}')\n",
        "print(f'Phần dư là: {phan_conlai}')\n",
        "print(f'Logarit là: {logarit}')\n",
        "print(f'Lũy thừa là: {luy_thua}')"
      ],
      "metadata": {
        "colab": {
          "base_uri": "https://localhost:8080/"
        },
        "id": "UqC7aS0lavEy",
        "outputId": "7c83578b-9c49-4036-e8d6-8d0aebc8627f"
      },
      "execution_count": null,
      "outputs": [
        {
          "output_type": "stream",
          "name": "stdout",
          "text": [
            "Nhập số a: 8\n",
            "Nhập số b: 9\n",
            "Tổng là: 17\n",
            "Hiệu là: -1\n",
            "Tích là: 72\n",
            "Thương là: 0.8888888888888888\n",
            "Phần dư là: 8\n",
            "Logarit là: 0.9030899869919435\n",
            "Lũy thừa là: 134217728\n"
          ]
        }
      ]
    },
    {
      "cell_type": "code",
      "source": [
        "#Bài 15\n",
        "from math import *\n",
        "C = 4.816\n",
        "cost_per_kWh = 8.9\n",
        "joules_to_kWh = 2.777e-7\n",
        "M = float(input('Nhập khối lượng của nước: '))\n",
        "delta_T = float(input('Nhập độ lớn của biến đổi nhiệt độ: '))\n",
        "Q = M * C * delta_T\n",
        "\n",
        "energy_kWh = Q * joules_to_kWh\n",
        "cost = energy_kWh * cost_per_kWh\n",
        "\n",
        "print(f'Năng lượng Q là: {Q} W')\n",
        "print(f'Chi phí điện là: {cost} cents')\n"
      ],
      "metadata": {
        "id": "92nbYV4odC29",
        "colab": {
          "base_uri": "https://localhost:8080/"
        },
        "outputId": "b5c550ae-31ca-463e-a24d-83d63618ac7c"
      },
      "execution_count": null,
      "outputs": [
        {
          "output_type": "stream",
          "name": "stdout",
          "text": [
            "Nhập khối lượng của nước: 109\n",
            "Nhập độ lớn của biến đổi nhiệt độ: 67\n",
            "Năng lượng Q là: 35171.248 W\n",
            "Chi phí điện là: 0.08692679456944 cents\n"
          ]
        }
      ]
    },
    {
      "cell_type": "code",
      "source": [
        "#Bài 16\n",
        "import math\n",
        "g = 9.8\n",
        "v_i = 0\n",
        "\n",
        "# Nhập dữ liệu từ người dùng\n",
        "d = float(input(\"Nhập chiều cao (m) từ đó vật được thả: \"))\n",
        "\n",
        "# Tính toán tốc độ cuối cùng khi chạm đất\n",
        "v_f = math.sqrt(v_i**2 + 2 * g * d)\n",
        "\n",
        "# Xuất kết quả\n",
        "print(f\"Tốc độ của vật khi chạm đất là: {v_f:.2f} m/s\")"
      ],
      "metadata": {
        "colab": {
          "base_uri": "https://localhost:8080/"
        },
        "id": "P0lbtrg0QJWI",
        "outputId": "2e3171a5-fb15-4ff1-df3b-375fecf48e69"
      },
      "execution_count": null,
      "outputs": [
        {
          "output_type": "stream",
          "name": "stdout",
          "text": [
            "Nhập chiều cao (m) từ đó vật được thả: 67\n",
            "Tốc độ của vật khi chạm đất là: 36.24 m/s\n"
          ]
        }
      ]
    },
    {
      "cell_type": "code",
      "source": [
        "#Bài 17\n",
        "# Nhập dữ liệu từ người dùng\n",
        "Ta = float(input(\"Nhập nhiệt độ không khí (độ C): \"))\n",
        "V = float(input(\"Nhập tốc độ gió (km/h): \"))\n",
        "\n",
        "# Tính toán chỉ số gió lạnh (WCI)\n",
        "WCI = 13.12 + 0.6215 * Ta - 11.37 * (V ** 0.16) + 0.3965 * Ta * (V ** 0.16)\n",
        "\n",
        "# Làm tròn chỉ số gió lạnh đến số nguyên gần nhất\n",
        "WCI_rounded = round(WCI)\n",
        "\n",
        "# Xuất kết quả\n",
        "print(f\"Chỉ số gió lạnh là: {WCI_rounded}\")\n"
      ],
      "metadata": {
        "id": "_nSIt3Lzd8nJ",
        "colab": {
          "base_uri": "https://localhost:8080/"
        },
        "outputId": "120e7bca-8306-4348-dc62-567489bf8e4b"
      },
      "execution_count": null,
      "outputs": [
        {
          "output_type": "stream",
          "name": "stdout",
          "text": [
            "Nhập nhiệt độ không khí (độ C): 67\n",
            "Nhập tốc độ gió (km/h): 89\n",
            "Chỉ số gió lạnh là: 86\n"
          ]
        }
      ]
    }
  ]
}